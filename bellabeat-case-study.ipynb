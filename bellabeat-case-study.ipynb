{
 "cells": [
  {
   "cell_type": "code",
   "execution_count": 1,
   "id": "5f516b75",
   "metadata": {
    "_execution_state": "idle",
    "_uuid": "051d70d956493feee0c6d64651c6a088724dca2a",
    "execution": {
     "iopub.execute_input": "2021-09-25T11:20:06.830419Z",
     "iopub.status.busy": "2021-09-25T11:20:06.827545Z",
     "iopub.status.idle": "2021-09-25T11:20:08.126402Z",
     "shell.execute_reply": "2021-09-25T11:20:08.125016Z"
    },
    "papermill": {
     "duration": 1.327303,
     "end_time": "2021-09-25T11:20:08.126572",
     "exception": false,
     "start_time": "2021-09-25T11:20:06.799269",
     "status": "completed"
    },
    "tags": []
   },
   "outputs": [
    {
     "name": "stderr",
     "output_type": "stream",
     "text": [
      "── \u001b[1mAttaching packages\u001b[22m ─────────────────────────────────────── tidyverse 1.3.1 ──\n",
      "\n",
      "\u001b[32m✔\u001b[39m \u001b[34mggplot2\u001b[39m 3.3.5     \u001b[32m✔\u001b[39m \u001b[34mpurrr  \u001b[39m 0.3.4\n",
      "\u001b[32m✔\u001b[39m \u001b[34mtibble \u001b[39m 3.1.4     \u001b[32m✔\u001b[39m \u001b[34mdplyr  \u001b[39m 1.0.7\n",
      "\u001b[32m✔\u001b[39m \u001b[34mtidyr  \u001b[39m 1.1.3     \u001b[32m✔\u001b[39m \u001b[34mstringr\u001b[39m 1.4.0\n",
      "\u001b[32m✔\u001b[39m \u001b[34mreadr  \u001b[39m 2.0.1     \u001b[32m✔\u001b[39m \u001b[34mforcats\u001b[39m 0.5.1\n",
      "\n",
      "── \u001b[1mConflicts\u001b[22m ────────────────────────────────────────── tidyverse_conflicts() ──\n",
      "\u001b[31m✖\u001b[39m \u001b[34mdplyr\u001b[39m::\u001b[32mfilter()\u001b[39m masks \u001b[34mstats\u001b[39m::filter()\n",
      "\u001b[31m✖\u001b[39m \u001b[34mdplyr\u001b[39m::\u001b[32mlag()\u001b[39m    masks \u001b[34mstats\u001b[39m::lag()\n",
      "\n"
     ]
    },
    {
     "data": {
      "text/html": [
       "'fitbit'"
      ],
      "text/latex": [
       "'fitbit'"
      ],
      "text/markdown": [
       "'fitbit'"
      ],
      "text/plain": [
       "[1] \"fitbit\""
      ]
     },
     "metadata": {},
     "output_type": "display_data"
    }
   ],
   "source": [
    "# This R environment comes with many helpful analytics packages installed\n",
    "# It is defined by the kaggle/rstats Docker image: https://github.com/kaggle/docker-rstats\n",
    "# For example, here's a helpful package to load\n",
    "\n",
    "library(tidyverse) # metapackage of all tidyverse packages\n",
    "\n",
    "# Input data files are available in the read-only \"../input/\" directory\n",
    "# For example, running this (by clicking run or pressing Shift+Enter) will list all files under the input directory\n",
    "\n",
    "list.files(path = \"../input\")\n",
    "\n",
    "# You can write up to 20GB to the current directory (/kaggle/working/) that gets preserved as output when you create a version using \"Save & Run All\" \n",
    "# You can also write temporary files to /kaggle/temp/, but they won't be saved outside of the current session"
   ]
  },
  {
   "cell_type": "markdown",
   "id": "78348c16",
   "metadata": {
    "papermill": {
     "duration": 0.023561,
     "end_time": "2021-09-25T11:20:08.174472",
     "exception": false,
     "start_time": "2021-09-25T11:20:08.150911",
     "status": "completed"
    },
    "tags": []
   },
   "source": [
    "## **Introduction:**\n",
    "Bellabeat is a high-tech manufacturer of health-focused smart products for women. Bellabeat’s app and multiple smart devices collect data on activity, sleep, stress, hydration levels, and reproductive health to empower women with an understanding of their own health and habits. The company was founded in 2013 by Urška Sršen and Sando Mur and has expanded quickly since, now with the possibility to become a greater player in the global smart device market.\n",
    "\n",
    "Bellabeat’s product line is made up of the Bellabeat app, which allows users insight into their health by providing data on their activity, sleep, stress, menstrual cycle, and mindfulness habits. The Bellabeat app also connects to the company’s line of smart device products. Leaf is Bellabeat’s classic wellness tracker that can be worn as a bracelet, necklace, or clip. Leaf tracks the user’s activity, sleep, and stress and connects to the Bellabeat app. Time is a wellness smart watch that also tracks the user’s activity, sleep, and stress and connects to the Bellabeat app. Spring is a smart water bottle that tracks the daily water intake of its user to ensure proper hydration levels are maintained throughout the day. Spring also connects to the Bellabeat app to track this data. Bellabeat membership is a subscription-based membership program that provides users 24/7 access to fully personalized guidance on nutrition, activity, sleep, health, beauty, and mindfulness based on their lifestyle and goals."
   ]
  },
  {
   "cell_type": "markdown",
   "id": "4b5ef4aa",
   "metadata": {
    "papermill": {
     "duration": 0.023705,
     "end_time": "2021-09-25T11:20:08.222204",
     "exception": false,
     "start_time": "2021-09-25T11:20:08.198499",
     "status": "completed"
    },
    "tags": []
   },
   "source": [
    "## **ASK:**\n",
    "\n",
    "#### **Key objectives:**\n",
    "\n",
    "##### 1. Identify the business task:\n",
    "\n",
    "* Analyze smart device usage data to gain insight into how consumers use non-Bellabeat smart devices to identify potential growth and provide high level recommendations for Bellabeat marketing strategy.\n",
    "\n",
    "##### 2. Consider key stakeholders:\n",
    "\n",
    "* The main stakeholders here are Urška Sršen, Bellabeat’s co-founder and Chief Creative Officer; Sando Mur, Mathematician and Bellabeat’s cofounder; And the rest of the Bellabeat marketing analytics team."
   ]
  },
  {
   "cell_type": "markdown",
   "id": "de114473",
   "metadata": {
    "papermill": {
     "duration": 0.023584,
     "end_time": "2021-09-25T11:20:08.269419",
     "exception": false,
     "start_time": "2021-09-25T11:20:08.245835",
     "status": "completed"
    },
    "tags": []
   },
   "source": [
    "## **PREPARE:**\n",
    "\n",
    "The data being used for this analysis is the [FitBit FItness Tracker Data](https://www.kaggle.com/arashnic/fitbit) on Kaggle.\n",
    "These datasets were generated by respondents to a distributed survey via Amazon Mechanical Turk between 03.12.2016-05.12.2016. Thirty eligible Fitbit users consented to the submission of personal tracker data, including minute-level output for physical activity, heart rate, and sleep monitoring. Individual reports can be parsed by export session ID (column A) or timestamp (column B). Variation between output represents use of different types of Fitbit trackers and individual tracking behaviors / preferences.\n",
    "\n",
    "Limitations for this data exist due to the sample size and absence of key characteristics of the participants, such as gender, age, location, lifestyle.\n",
    "\n",
    "For this analysis the datasets for daily activity, daily calories, daily intensities, daily steps, heartrate by seconds, minute METs, daily sleep, and weight log information, will be used.\n",
    "\n",
    "R Studio was used to complete this analysis because of the many packages and data visualization features available to explore the data with.\n",
    "\n",
    "#### **Sorting and filtering the data:**\n",
    "\n",
    "* Installing and loading the packages required:\n"
   ]
  },
  {
   "cell_type": "code",
   "execution_count": 2,
   "id": "1b7c3c7b",
   "metadata": {
    "_kg_hide-output": true,
    "execution": {
     "iopub.execute_input": "2021-09-25T11:20:08.354001Z",
     "iopub.status.busy": "2021-09-25T11:20:08.321081Z",
     "iopub.status.idle": "2021-09-25T11:20:54.728229Z",
     "shell.execute_reply": "2021-09-25T11:20:54.726316Z"
    },
    "papermill": {
     "duration": 46.435287,
     "end_time": "2021-09-25T11:20:54.728440",
     "exception": false,
     "start_time": "2021-09-25T11:20:08.293153",
     "status": "completed"
    },
    "tags": []
   },
   "outputs": [
    {
     "name": "stderr",
     "output_type": "stream",
     "text": [
      "Installing package into ‘/usr/local/lib/R/site-library’\n",
      "(as ‘lib’ is unspecified)\n",
      "\n",
      "Installing package into ‘/usr/local/lib/R/site-library’\n",
      "(as ‘lib’ is unspecified)\n",
      "\n",
      "Installing package into ‘/usr/local/lib/R/site-library’\n",
      "(as ‘lib’ is unspecified)\n",
      "\n",
      "\n",
      "Attaching package: ‘reshape2’\n",
      "\n",
      "\n",
      "The following object is masked from ‘package:tidyr’:\n",
      "\n",
      "    smiths\n",
      "\n",
      "\n",
      "\n",
      "Attaching package: ‘scales’\n",
      "\n",
      "\n",
      "The following object is masked from ‘package:purrr’:\n",
      "\n",
      "    discard\n",
      "\n",
      "\n",
      "The following object is masked from ‘package:readr’:\n",
      "\n",
      "    col_factor\n",
      "\n",
      "\n"
     ]
    }
   ],
   "source": [
    "install.packages(\"tidyverse\")\n",
    "install.packages(\"reshape2\")\n",
    "install.packages(\"scales\")\n",
    "\n",
    "library(tidyverse)\n",
    "library(reshape2)\n",
    "library(scales)\n"
   ]
  },
  {
   "cell_type": "markdown",
   "id": "bdb0bcf2",
   "metadata": {
    "papermill": {
     "duration": 0.027306,
     "end_time": "2021-09-25T11:20:54.783605",
     "exception": false,
     "start_time": "2021-09-25T11:20:54.756299",
     "status": "completed"
    },
    "tags": []
   },
   "source": [
    "#### **Importing datasets:**"
   ]
  },
  {
   "cell_type": "code",
   "execution_count": 3,
   "id": "01527a01",
   "metadata": {
    "_kg_hide-output": true,
    "execution": {
     "iopub.execute_input": "2021-09-25T11:20:54.842775Z",
     "iopub.status.busy": "2021-09-25T11:20:54.840755Z",
     "iopub.status.idle": "2021-09-25T11:20:55.559922Z",
     "shell.execute_reply": "2021-09-25T11:20:55.557888Z"
    },
    "papermill": {
     "duration": 0.749819,
     "end_time": "2021-09-25T11:20:55.560098",
     "exception": false,
     "start_time": "2021-09-25T11:20:54.810279",
     "status": "completed"
    },
    "tags": []
   },
   "outputs": [
    {
     "name": "stderr",
     "output_type": "stream",
     "text": [
      "\u001b[1m\u001b[1mRows: \u001b[1m\u001b[22m\u001b[34m\u001b[34m940\u001b[34m\u001b[39m \u001b[1m\u001b[1mColumns: \u001b[1m\u001b[22m\u001b[34m\u001b[34m15\u001b[34m\u001b[39m\n",
      "\n",
      "\u001b[36m──\u001b[39m \u001b[1m\u001b[1mColumn specification\u001b[1m\u001b[22m \u001b[36m────────────────────────────────────────────────────────\u001b[39m\n",
      "\u001b[1mDelimiter:\u001b[22m \",\"\n",
      "\u001b[31mchr\u001b[39m  (1): ActivityDate\n",
      "\u001b[32mdbl\u001b[39m (14): Id, TotalSteps, TotalDistance, TrackerDistance, LoggedActivitiesDi...\n",
      "\n",
      "\n",
      "\u001b[36mℹ\u001b[39m Use \u001b[30m\u001b[47m\u001b[30m\u001b[47m`spec()`\u001b[47m\u001b[30m\u001b[49m\u001b[39m to retrieve the full column specification for this data.\n",
      "\u001b[36mℹ\u001b[39m Specify the column types or set \u001b[30m\u001b[47m\u001b[30m\u001b[47m`show_col_types = FALSE`\u001b[47m\u001b[30m\u001b[49m\u001b[39m to quiet this message.\n",
      "\n",
      "\u001b[1m\u001b[1mRows: \u001b[1m\u001b[22m\u001b[34m\u001b[34m940\u001b[34m\u001b[39m \u001b[1m\u001b[1mColumns: \u001b[1m\u001b[22m\u001b[34m\u001b[34m3\u001b[34m\u001b[39m\n",
      "\n",
      "\u001b[36m──\u001b[39m \u001b[1m\u001b[1mColumn specification\u001b[1m\u001b[22m \u001b[36m────────────────────────────────────────────────────────\u001b[39m\n",
      "\u001b[1mDelimiter:\u001b[22m \",\"\n",
      "\u001b[31mchr\u001b[39m (1): ActivityDay\n",
      "\u001b[32mdbl\u001b[39m (2): Id, Calories\n",
      "\n",
      "\n",
      "\u001b[36mℹ\u001b[39m Use \u001b[30m\u001b[47m\u001b[30m\u001b[47m`spec()`\u001b[47m\u001b[30m\u001b[49m\u001b[39m to retrieve the full column specification for this data.\n",
      "\u001b[36mℹ\u001b[39m Specify the column types or set \u001b[30m\u001b[47m\u001b[30m\u001b[47m`show_col_types = FALSE`\u001b[47m\u001b[30m\u001b[49m\u001b[39m to quiet this message.\n",
      "\n",
      "\u001b[1m\u001b[1mRows: \u001b[1m\u001b[22m\u001b[34m\u001b[34m940\u001b[34m\u001b[39m \u001b[1m\u001b[1mColumns: \u001b[1m\u001b[22m\u001b[34m\u001b[34m10\u001b[34m\u001b[39m\n",
      "\n",
      "\u001b[36m──\u001b[39m \u001b[1m\u001b[1mColumn specification\u001b[1m\u001b[22m \u001b[36m────────────────────────────────────────────────────────\u001b[39m\n",
      "\u001b[1mDelimiter:\u001b[22m \",\"\n",
      "\u001b[31mchr\u001b[39m (1): ActivityDay\n",
      "\u001b[32mdbl\u001b[39m (9): Id, SedentaryMinutes, LightlyActiveMinutes, FairlyActiveMinutes, Ve...\n",
      "\n",
      "\n",
      "\u001b[36mℹ\u001b[39m Use \u001b[30m\u001b[47m\u001b[30m\u001b[47m`spec()`\u001b[47m\u001b[30m\u001b[49m\u001b[39m to retrieve the full column specification for this data.\n",
      "\u001b[36mℹ\u001b[39m Specify the column types or set \u001b[30m\u001b[47m\u001b[30m\u001b[47m`show_col_types = FALSE`\u001b[47m\u001b[30m\u001b[49m\u001b[39m to quiet this message.\n",
      "\n",
      "\u001b[1m\u001b[1mRows: \u001b[1m\u001b[22m\u001b[34m\u001b[34m940\u001b[34m\u001b[39m \u001b[1m\u001b[1mColumns: \u001b[1m\u001b[22m\u001b[34m\u001b[34m3\u001b[34m\u001b[39m\n",
      "\n",
      "\u001b[36m──\u001b[39m \u001b[1m\u001b[1mColumn specification\u001b[1m\u001b[22m \u001b[36m────────────────────────────────────────────────────────\u001b[39m\n",
      "\u001b[1mDelimiter:\u001b[22m \",\"\n",
      "\u001b[31mchr\u001b[39m (1): ActivityDay\n",
      "\u001b[32mdbl\u001b[39m (2): Id, StepTotal\n",
      "\n",
      "\n",
      "\u001b[36mℹ\u001b[39m Use \u001b[30m\u001b[47m\u001b[30m\u001b[47m`spec()`\u001b[47m\u001b[30m\u001b[49m\u001b[39m to retrieve the full column specification for this data.\n",
      "\u001b[36mℹ\u001b[39m Specify the column types or set \u001b[30m\u001b[47m\u001b[30m\u001b[47m`show_col_types = FALSE`\u001b[47m\u001b[30m\u001b[49m\u001b[39m to quiet this message.\n",
      "\n",
      "\u001b[1m\u001b[1mRows: \u001b[1m\u001b[22m\u001b[34m\u001b[34m413\u001b[34m\u001b[39m \u001b[1m\u001b[1mColumns: \u001b[1m\u001b[22m\u001b[34m\u001b[34m5\u001b[34m\u001b[39m\n",
      "\n",
      "\u001b[36m──\u001b[39m \u001b[1m\u001b[1mColumn specification\u001b[1m\u001b[22m \u001b[36m────────────────────────────────────────────────────────\u001b[39m\n",
      "\u001b[1mDelimiter:\u001b[22m \",\"\n",
      "\u001b[31mchr\u001b[39m (1): SleepDay\n",
      "\u001b[32mdbl\u001b[39m (4): Id, TotalSleepRecords, TotalMinutesAsleep, TotalTimeInBed\n",
      "\n",
      "\n",
      "\u001b[36mℹ\u001b[39m Use \u001b[30m\u001b[47m\u001b[30m\u001b[47m`spec()`\u001b[47m\u001b[30m\u001b[49m\u001b[39m to retrieve the full column specification for this data.\n",
      "\u001b[36mℹ\u001b[39m Specify the column types or set \u001b[30m\u001b[47m\u001b[30m\u001b[47m`show_col_types = FALSE`\u001b[47m\u001b[30m\u001b[49m\u001b[39m to quiet this message.\n",
      "\n",
      "\u001b[1m\u001b[1mRows: \u001b[1m\u001b[22m\u001b[34m\u001b[34m67\u001b[34m\u001b[39m \u001b[1m\u001b[1mColumns: \u001b[1m\u001b[22m\u001b[34m\u001b[34m8\u001b[34m\u001b[39m\n",
      "\n",
      "\u001b[36m──\u001b[39m \u001b[1m\u001b[1mColumn specification\u001b[1m\u001b[22m \u001b[36m────────────────────────────────────────────────────────\u001b[39m\n",
      "\u001b[1mDelimiter:\u001b[22m \",\"\n",
      "\u001b[31mchr\u001b[39m (1): Date\n",
      "\u001b[32mdbl\u001b[39m (6): Id, WeightKg, WeightPounds, Fat, BMI, LogId\n",
      "\u001b[33mlgl\u001b[39m (1): IsManualReport\n",
      "\n",
      "\n",
      "\u001b[36mℹ\u001b[39m Use \u001b[30m\u001b[47m\u001b[30m\u001b[47m`spec()`\u001b[47m\u001b[30m\u001b[49m\u001b[39m to retrieve the full column specification for this data.\n",
      "\u001b[36mℹ\u001b[39m Specify the column types or set \u001b[30m\u001b[47m\u001b[30m\u001b[47m`show_col_types = FALSE`\u001b[47m\u001b[30m\u001b[49m\u001b[39m to quiet this message.\n",
      "\n"
     ]
    }
   ],
   "source": [
    "daily_activity <- read_csv(\"../input/fitbit/Fitabase Data 4.12.16-5.12.16/dailyActivity_merged.csv\")\n",
    "daily_calories <- read_csv(\"../input/fitbit/Fitabase Data 4.12.16-5.12.16/dailyCalories_merged.csv\")\n",
    "daily_intensities <- read_csv(\"../input/fitbit/Fitabase Data 4.12.16-5.12.16/dailyIntensities_merged.csv\")\n",
    "daily_steps <- read_csv(\"../input/fitbit/Fitabase Data 4.12.16-5.12.16/dailySteps_merged.csv\")\n",
    "sleep_day <- read_csv(\"../input/fitbit/Fitabase Data 4.12.16-5.12.16/sleepDay_merged.csv\")\n",
    "weight_log <- read_csv(\"../input/fitbit/Fitabase Data 4.12.16-5.12.16/weightLogInfo_merged.csv\")"
   ]
  },
  {
   "cell_type": "markdown",
   "id": "b8ab199e",
   "metadata": {
    "papermill": {
     "duration": 0.031485,
     "end_time": "2021-09-25T11:20:55.624400",
     "exception": false,
     "start_time": "2021-09-25T11:20:55.592915",
     "status": "completed"
    },
    "tags": []
   },
   "source": [
    "#### **Viewing the data frames:**\n",
    "To ensure that the data was imported corrently the head() function is used."
   ]
  },
  {
   "cell_type": "markdown",
   "id": "50e8b21e",
   "metadata": {
    "papermill": {
     "duration": 0.031233,
     "end_time": "2021-09-25T11:20:55.686797",
     "exception": false,
     "start_time": "2021-09-25T11:20:55.655564",
     "status": "completed"
    },
    "tags": []
   },
   "source": [
    "daily_activity:"
   ]
  },
  {
   "cell_type": "code",
   "execution_count": 4,
   "id": "7ad5939d",
   "metadata": {
    "execution": {
     "iopub.execute_input": "2021-09-25T11:20:55.755253Z",
     "iopub.status.busy": "2021-09-25T11:20:55.753611Z",
     "iopub.status.idle": "2021-09-25T11:20:55.794194Z",
     "shell.execute_reply": "2021-09-25T11:20:55.792486Z"
    },
    "papermill": {
     "duration": 0.0762,
     "end_time": "2021-09-25T11:20:55.794345",
     "exception": false,
     "start_time": "2021-09-25T11:20:55.718145",
     "status": "completed"
    },
    "tags": []
   },
   "outputs": [
    {
     "data": {
      "text/html": [
       "<table class=\"dataframe\">\n",
       "<caption>A tibble: 6 × 15</caption>\n",
       "<thead>\n",
       "\t<tr><th scope=col>Id</th><th scope=col>ActivityDate</th><th scope=col>TotalSteps</th><th scope=col>TotalDistance</th><th scope=col>TrackerDistance</th><th scope=col>LoggedActivitiesDistance</th><th scope=col>VeryActiveDistance</th><th scope=col>ModeratelyActiveDistance</th><th scope=col>LightActiveDistance</th><th scope=col>SedentaryActiveDistance</th><th scope=col>VeryActiveMinutes</th><th scope=col>FairlyActiveMinutes</th><th scope=col>LightlyActiveMinutes</th><th scope=col>SedentaryMinutes</th><th scope=col>Calories</th></tr>\n",
       "\t<tr><th scope=col>&lt;dbl&gt;</th><th scope=col>&lt;chr&gt;</th><th scope=col>&lt;dbl&gt;</th><th scope=col>&lt;dbl&gt;</th><th scope=col>&lt;dbl&gt;</th><th scope=col>&lt;dbl&gt;</th><th scope=col>&lt;dbl&gt;</th><th scope=col>&lt;dbl&gt;</th><th scope=col>&lt;dbl&gt;</th><th scope=col>&lt;dbl&gt;</th><th scope=col>&lt;dbl&gt;</th><th scope=col>&lt;dbl&gt;</th><th scope=col>&lt;dbl&gt;</th><th scope=col>&lt;dbl&gt;</th><th scope=col>&lt;dbl&gt;</th></tr>\n",
       "</thead>\n",
       "<tbody>\n",
       "\t<tr><td>1503960366</td><td>4/12/2016</td><td>13162</td><td>8.50</td><td>8.50</td><td>0</td><td>1.88</td><td>0.55</td><td>6.06</td><td>0</td><td>25</td><td>13</td><td>328</td><td> 728</td><td>1985</td></tr>\n",
       "\t<tr><td>1503960366</td><td>4/13/2016</td><td>10735</td><td>6.97</td><td>6.97</td><td>0</td><td>1.57</td><td>0.69</td><td>4.71</td><td>0</td><td>21</td><td>19</td><td>217</td><td> 776</td><td>1797</td></tr>\n",
       "\t<tr><td>1503960366</td><td>4/14/2016</td><td>10460</td><td>6.74</td><td>6.74</td><td>0</td><td>2.44</td><td>0.40</td><td>3.91</td><td>0</td><td>30</td><td>11</td><td>181</td><td>1218</td><td>1776</td></tr>\n",
       "\t<tr><td>1503960366</td><td>4/15/2016</td><td> 9762</td><td>6.28</td><td>6.28</td><td>0</td><td>2.14</td><td>1.26</td><td>2.83</td><td>0</td><td>29</td><td>34</td><td>209</td><td> 726</td><td>1745</td></tr>\n",
       "\t<tr><td>1503960366</td><td>4/16/2016</td><td>12669</td><td>8.16</td><td>8.16</td><td>0</td><td>2.71</td><td>0.41</td><td>5.04</td><td>0</td><td>36</td><td>10</td><td>221</td><td> 773</td><td>1863</td></tr>\n",
       "\t<tr><td>1503960366</td><td>4/17/2016</td><td> 9705</td><td>6.48</td><td>6.48</td><td>0</td><td>3.19</td><td>0.78</td><td>2.51</td><td>0</td><td>38</td><td>20</td><td>164</td><td> 539</td><td>1728</td></tr>\n",
       "</tbody>\n",
       "</table>\n"
      ],
      "text/latex": [
       "A tibble: 6 × 15\n",
       "\\begin{tabular}{lllllllllllllll}\n",
       " Id & ActivityDate & TotalSteps & TotalDistance & TrackerDistance & LoggedActivitiesDistance & VeryActiveDistance & ModeratelyActiveDistance & LightActiveDistance & SedentaryActiveDistance & VeryActiveMinutes & FairlyActiveMinutes & LightlyActiveMinutes & SedentaryMinutes & Calories\\\\\n",
       " <dbl> & <chr> & <dbl> & <dbl> & <dbl> & <dbl> & <dbl> & <dbl> & <dbl> & <dbl> & <dbl> & <dbl> & <dbl> & <dbl> & <dbl>\\\\\n",
       "\\hline\n",
       "\t 1503960366 & 4/12/2016 & 13162 & 8.50 & 8.50 & 0 & 1.88 & 0.55 & 6.06 & 0 & 25 & 13 & 328 &  728 & 1985\\\\\n",
       "\t 1503960366 & 4/13/2016 & 10735 & 6.97 & 6.97 & 0 & 1.57 & 0.69 & 4.71 & 0 & 21 & 19 & 217 &  776 & 1797\\\\\n",
       "\t 1503960366 & 4/14/2016 & 10460 & 6.74 & 6.74 & 0 & 2.44 & 0.40 & 3.91 & 0 & 30 & 11 & 181 & 1218 & 1776\\\\\n",
       "\t 1503960366 & 4/15/2016 &  9762 & 6.28 & 6.28 & 0 & 2.14 & 1.26 & 2.83 & 0 & 29 & 34 & 209 &  726 & 1745\\\\\n",
       "\t 1503960366 & 4/16/2016 & 12669 & 8.16 & 8.16 & 0 & 2.71 & 0.41 & 5.04 & 0 & 36 & 10 & 221 &  773 & 1863\\\\\n",
       "\t 1503960366 & 4/17/2016 &  9705 & 6.48 & 6.48 & 0 & 3.19 & 0.78 & 2.51 & 0 & 38 & 20 & 164 &  539 & 1728\\\\\n",
       "\\end{tabular}\n"
      ],
      "text/markdown": [
       "\n",
       "A tibble: 6 × 15\n",
       "\n",
       "| Id &lt;dbl&gt; | ActivityDate &lt;chr&gt; | TotalSteps &lt;dbl&gt; | TotalDistance &lt;dbl&gt; | TrackerDistance &lt;dbl&gt; | LoggedActivitiesDistance &lt;dbl&gt; | VeryActiveDistance &lt;dbl&gt; | ModeratelyActiveDistance &lt;dbl&gt; | LightActiveDistance &lt;dbl&gt; | SedentaryActiveDistance &lt;dbl&gt; | VeryActiveMinutes &lt;dbl&gt; | FairlyActiveMinutes &lt;dbl&gt; | LightlyActiveMinutes &lt;dbl&gt; | SedentaryMinutes &lt;dbl&gt; | Calories &lt;dbl&gt; |\n",
       "|---|---|---|---|---|---|---|---|---|---|---|---|---|---|---|\n",
       "| 1503960366 | 4/12/2016 | 13162 | 8.50 | 8.50 | 0 | 1.88 | 0.55 | 6.06 | 0 | 25 | 13 | 328 |  728 | 1985 |\n",
       "| 1503960366 | 4/13/2016 | 10735 | 6.97 | 6.97 | 0 | 1.57 | 0.69 | 4.71 | 0 | 21 | 19 | 217 |  776 | 1797 |\n",
       "| 1503960366 | 4/14/2016 | 10460 | 6.74 | 6.74 | 0 | 2.44 | 0.40 | 3.91 | 0 | 30 | 11 | 181 | 1218 | 1776 |\n",
       "| 1503960366 | 4/15/2016 |  9762 | 6.28 | 6.28 | 0 | 2.14 | 1.26 | 2.83 | 0 | 29 | 34 | 209 |  726 | 1745 |\n",
       "| 1503960366 | 4/16/2016 | 12669 | 8.16 | 8.16 | 0 | 2.71 | 0.41 | 5.04 | 0 | 36 | 10 | 221 |  773 | 1863 |\n",
       "| 1503960366 | 4/17/2016 |  9705 | 6.48 | 6.48 | 0 | 3.19 | 0.78 | 2.51 | 0 | 38 | 20 | 164 |  539 | 1728 |\n",
       "\n"
      ],
      "text/plain": [
       "  Id         ActivityDate TotalSteps TotalDistance TrackerDistance\n",
       "1 1503960366 4/12/2016    13162      8.50          8.50           \n",
       "2 1503960366 4/13/2016    10735      6.97          6.97           \n",
       "3 1503960366 4/14/2016    10460      6.74          6.74           \n",
       "4 1503960366 4/15/2016     9762      6.28          6.28           \n",
       "5 1503960366 4/16/2016    12669      8.16          8.16           \n",
       "6 1503960366 4/17/2016     9705      6.48          6.48           \n",
       "  LoggedActivitiesDistance VeryActiveDistance ModeratelyActiveDistance\n",
       "1 0                        1.88               0.55                    \n",
       "2 0                        1.57               0.69                    \n",
       "3 0                        2.44               0.40                    \n",
       "4 0                        2.14               1.26                    \n",
       "5 0                        2.71               0.41                    \n",
       "6 0                        3.19               0.78                    \n",
       "  LightActiveDistance SedentaryActiveDistance VeryActiveMinutes\n",
       "1 6.06                0                       25               \n",
       "2 4.71                0                       21               \n",
       "3 3.91                0                       30               \n",
       "4 2.83                0                       29               \n",
       "5 5.04                0                       36               \n",
       "6 2.51                0                       38               \n",
       "  FairlyActiveMinutes LightlyActiveMinutes SedentaryMinutes Calories\n",
       "1 13                  328                   728             1985    \n",
       "2 19                  217                   776             1797    \n",
       "3 11                  181                  1218             1776    \n",
       "4 34                  209                   726             1745    \n",
       "5 10                  221                   773             1863    \n",
       "6 20                  164                   539             1728    "
      ]
     },
     "metadata": {},
     "output_type": "display_data"
    }
   ],
   "source": [
    "head(daily_activity)"
   ]
  },
  {
   "cell_type": "code",
   "execution_count": 5,
   "id": "0fd822ed",
   "metadata": {
    "execution": {
     "iopub.execute_input": "2021-09-25T11:20:55.865073Z",
     "iopub.status.busy": "2021-09-25T11:20:55.863014Z",
     "iopub.status.idle": "2021-09-25T11:20:55.898053Z",
     "shell.execute_reply": "2021-09-25T11:20:55.896791Z"
    },
    "papermill": {
     "duration": 0.071649,
     "end_time": "2021-09-25T11:20:55.898281",
     "exception": false,
     "start_time": "2021-09-25T11:20:55.826632",
     "status": "completed"
    },
    "tags": []
   },
   "outputs": [
    {
     "name": "stdout",
     "output_type": "stream",
     "text": [
      "Rows: 940\n",
      "Columns: 15\n",
      "$ Id                       \u001b[3m\u001b[90m<dbl>\u001b[39m\u001b[23m 1503960366, 1503960366, 1503960366, 150396036…\n",
      "$ ActivityDate             \u001b[3m\u001b[90m<chr>\u001b[39m\u001b[23m \"4/12/2016\", \"4/13/2016\", \"4/14/2016\", \"4/15/…\n",
      "$ TotalSteps               \u001b[3m\u001b[90m<dbl>\u001b[39m\u001b[23m 13162, 10735, 10460, 9762, 12669, 9705, 13019…\n",
      "$ TotalDistance            \u001b[3m\u001b[90m<dbl>\u001b[39m\u001b[23m 8.50, 6.97, 6.74, 6.28, 8.16, 6.48, 8.59, 9.8…\n",
      "$ TrackerDistance          \u001b[3m\u001b[90m<dbl>\u001b[39m\u001b[23m 8.50, 6.97, 6.74, 6.28, 8.16, 6.48, 8.59, 9.8…\n",
      "$ LoggedActivitiesDistance \u001b[3m\u001b[90m<dbl>\u001b[39m\u001b[23m 0, 0, 0, 0, 0, 0, 0, 0, 0, 0, 0, 0, 0, 0, 0, …\n",
      "$ VeryActiveDistance       \u001b[3m\u001b[90m<dbl>\u001b[39m\u001b[23m 1.88, 1.57, 2.44, 2.14, 2.71, 3.19, 3.25, 3.5…\n",
      "$ ModeratelyActiveDistance \u001b[3m\u001b[90m<dbl>\u001b[39m\u001b[23m 0.55, 0.69, 0.40, 1.26, 0.41, 0.78, 0.64, 1.3…\n",
      "$ LightActiveDistance      \u001b[3m\u001b[90m<dbl>\u001b[39m\u001b[23m 6.06, 4.71, 3.91, 2.83, 5.04, 2.51, 4.71, 5.0…\n",
      "$ SedentaryActiveDistance  \u001b[3m\u001b[90m<dbl>\u001b[39m\u001b[23m 0, 0, 0, 0, 0, 0, 0, 0, 0, 0, 0, 0, 0, 0, 0, …\n",
      "$ VeryActiveMinutes        \u001b[3m\u001b[90m<dbl>\u001b[39m\u001b[23m 25, 21, 30, 29, 36, 38, 42, 50, 28, 19, 66, 4…\n",
      "$ FairlyActiveMinutes      \u001b[3m\u001b[90m<dbl>\u001b[39m\u001b[23m 13, 19, 11, 34, 10, 20, 16, 31, 12, 8, 27, 21…\n",
      "$ LightlyActiveMinutes     \u001b[3m\u001b[90m<dbl>\u001b[39m\u001b[23m 328, 217, 181, 209, 221, 164, 233, 264, 205, …\n",
      "$ SedentaryMinutes         \u001b[3m\u001b[90m<dbl>\u001b[39m\u001b[23m 728, 776, 1218, 726, 773, 539, 1149, 775, 818…\n",
      "$ Calories                 \u001b[3m\u001b[90m<dbl>\u001b[39m\u001b[23m 1985, 1797, 1776, 1745, 1863, 1728, 1921, 203…\n"
     ]
    }
   ],
   "source": [
    "glimpse(daily_activity)"
   ]
  },
  {
   "cell_type": "markdown",
   "id": "3b36cd21",
   "metadata": {
    "papermill": {
     "duration": 0.032205,
     "end_time": "2021-09-25T11:20:55.964351",
     "exception": false,
     "start_time": "2021-09-25T11:20:55.932146",
     "status": "completed"
    },
    "tags": []
   },
   "source": [
    "***daily_intensities:***"
   ]
  },
  {
   "cell_type": "code",
   "execution_count": 6,
   "id": "fa742ae7",
   "metadata": {
    "execution": {
     "iopub.execute_input": "2021-09-25T11:20:56.035671Z",
     "iopub.status.busy": "2021-09-25T11:20:56.033672Z",
     "iopub.status.idle": "2021-09-25T11:20:56.064763Z",
     "shell.execute_reply": "2021-09-25T11:20:56.063115Z"
    },
    "papermill": {
     "duration": 0.068406,
     "end_time": "2021-09-25T11:20:56.064915",
     "exception": false,
     "start_time": "2021-09-25T11:20:55.996509",
     "status": "completed"
    },
    "tags": []
   },
   "outputs": [
    {
     "data": {
      "text/html": [
       "<table class=\"dataframe\">\n",
       "<caption>A tibble: 6 × 10</caption>\n",
       "<thead>\n",
       "\t<tr><th scope=col>Id</th><th scope=col>ActivityDay</th><th scope=col>SedentaryMinutes</th><th scope=col>LightlyActiveMinutes</th><th scope=col>FairlyActiveMinutes</th><th scope=col>VeryActiveMinutes</th><th scope=col>SedentaryActiveDistance</th><th scope=col>LightActiveDistance</th><th scope=col>ModeratelyActiveDistance</th><th scope=col>VeryActiveDistance</th></tr>\n",
       "\t<tr><th scope=col>&lt;dbl&gt;</th><th scope=col>&lt;chr&gt;</th><th scope=col>&lt;dbl&gt;</th><th scope=col>&lt;dbl&gt;</th><th scope=col>&lt;dbl&gt;</th><th scope=col>&lt;dbl&gt;</th><th scope=col>&lt;dbl&gt;</th><th scope=col>&lt;dbl&gt;</th><th scope=col>&lt;dbl&gt;</th><th scope=col>&lt;dbl&gt;</th></tr>\n",
       "</thead>\n",
       "<tbody>\n",
       "\t<tr><td>1503960366</td><td>4/12/2016</td><td> 728</td><td>328</td><td>13</td><td>25</td><td>0</td><td>6.06</td><td>0.55</td><td>1.88</td></tr>\n",
       "\t<tr><td>1503960366</td><td>4/13/2016</td><td> 776</td><td>217</td><td>19</td><td>21</td><td>0</td><td>4.71</td><td>0.69</td><td>1.57</td></tr>\n",
       "\t<tr><td>1503960366</td><td>4/14/2016</td><td>1218</td><td>181</td><td>11</td><td>30</td><td>0</td><td>3.91</td><td>0.40</td><td>2.44</td></tr>\n",
       "\t<tr><td>1503960366</td><td>4/15/2016</td><td> 726</td><td>209</td><td>34</td><td>29</td><td>0</td><td>2.83</td><td>1.26</td><td>2.14</td></tr>\n",
       "\t<tr><td>1503960366</td><td>4/16/2016</td><td> 773</td><td>221</td><td>10</td><td>36</td><td>0</td><td>5.04</td><td>0.41</td><td>2.71</td></tr>\n",
       "\t<tr><td>1503960366</td><td>4/17/2016</td><td> 539</td><td>164</td><td>20</td><td>38</td><td>0</td><td>2.51</td><td>0.78</td><td>3.19</td></tr>\n",
       "</tbody>\n",
       "</table>\n"
      ],
      "text/latex": [
       "A tibble: 6 × 10\n",
       "\\begin{tabular}{llllllllll}\n",
       " Id & ActivityDay & SedentaryMinutes & LightlyActiveMinutes & FairlyActiveMinutes & VeryActiveMinutes & SedentaryActiveDistance & LightActiveDistance & ModeratelyActiveDistance & VeryActiveDistance\\\\\n",
       " <dbl> & <chr> & <dbl> & <dbl> & <dbl> & <dbl> & <dbl> & <dbl> & <dbl> & <dbl>\\\\\n",
       "\\hline\n",
       "\t 1503960366 & 4/12/2016 &  728 & 328 & 13 & 25 & 0 & 6.06 & 0.55 & 1.88\\\\\n",
       "\t 1503960366 & 4/13/2016 &  776 & 217 & 19 & 21 & 0 & 4.71 & 0.69 & 1.57\\\\\n",
       "\t 1503960366 & 4/14/2016 & 1218 & 181 & 11 & 30 & 0 & 3.91 & 0.40 & 2.44\\\\\n",
       "\t 1503960366 & 4/15/2016 &  726 & 209 & 34 & 29 & 0 & 2.83 & 1.26 & 2.14\\\\\n",
       "\t 1503960366 & 4/16/2016 &  773 & 221 & 10 & 36 & 0 & 5.04 & 0.41 & 2.71\\\\\n",
       "\t 1503960366 & 4/17/2016 &  539 & 164 & 20 & 38 & 0 & 2.51 & 0.78 & 3.19\\\\\n",
       "\\end{tabular}\n"
      ],
      "text/markdown": [
       "\n",
       "A tibble: 6 × 10\n",
       "\n",
       "| Id &lt;dbl&gt; | ActivityDay &lt;chr&gt; | SedentaryMinutes &lt;dbl&gt; | LightlyActiveMinutes &lt;dbl&gt; | FairlyActiveMinutes &lt;dbl&gt; | VeryActiveMinutes &lt;dbl&gt; | SedentaryActiveDistance &lt;dbl&gt; | LightActiveDistance &lt;dbl&gt; | ModeratelyActiveDistance &lt;dbl&gt; | VeryActiveDistance &lt;dbl&gt; |\n",
       "|---|---|---|---|---|---|---|---|---|---|\n",
       "| 1503960366 | 4/12/2016 |  728 | 328 | 13 | 25 | 0 | 6.06 | 0.55 | 1.88 |\n",
       "| 1503960366 | 4/13/2016 |  776 | 217 | 19 | 21 | 0 | 4.71 | 0.69 | 1.57 |\n",
       "| 1503960366 | 4/14/2016 | 1218 | 181 | 11 | 30 | 0 | 3.91 | 0.40 | 2.44 |\n",
       "| 1503960366 | 4/15/2016 |  726 | 209 | 34 | 29 | 0 | 2.83 | 1.26 | 2.14 |\n",
       "| 1503960366 | 4/16/2016 |  773 | 221 | 10 | 36 | 0 | 5.04 | 0.41 | 2.71 |\n",
       "| 1503960366 | 4/17/2016 |  539 | 164 | 20 | 38 | 0 | 2.51 | 0.78 | 3.19 |\n",
       "\n"
      ],
      "text/plain": [
       "  Id         ActivityDay SedentaryMinutes LightlyActiveMinutes\n",
       "1 1503960366 4/12/2016    728             328                 \n",
       "2 1503960366 4/13/2016    776             217                 \n",
       "3 1503960366 4/14/2016   1218             181                 \n",
       "4 1503960366 4/15/2016    726             209                 \n",
       "5 1503960366 4/16/2016    773             221                 \n",
       "6 1503960366 4/17/2016    539             164                 \n",
       "  FairlyActiveMinutes VeryActiveMinutes SedentaryActiveDistance\n",
       "1 13                  25                0                      \n",
       "2 19                  21                0                      \n",
       "3 11                  30                0                      \n",
       "4 34                  29                0                      \n",
       "5 10                  36                0                      \n",
       "6 20                  38                0                      \n",
       "  LightActiveDistance ModeratelyActiveDistance VeryActiveDistance\n",
       "1 6.06                0.55                     1.88              \n",
       "2 4.71                0.69                     1.57              \n",
       "3 3.91                0.40                     2.44              \n",
       "4 2.83                1.26                     2.14              \n",
       "5 5.04                0.41                     2.71              \n",
       "6 2.51                0.78                     3.19              "
      ]
     },
     "metadata": {},
     "output_type": "display_data"
    }
   ],
   "source": [
    "head(daily_intensities)"
   ]
  },
  {
   "cell_type": "markdown",
   "id": "bda43ee1",
   "metadata": {
    "papermill": {
     "duration": 0.033386,
     "end_time": "2021-09-25T11:20:56.132496",
     "exception": false,
     "start_time": "2021-09-25T11:20:56.099110",
     "status": "completed"
    },
    "tags": []
   },
   "source": [
    "***daily_steps:***"
   ]
  },
  {
   "cell_type": "code",
   "execution_count": 7,
   "id": "9276f0b4",
   "metadata": {
    "execution": {
     "iopub.execute_input": "2021-09-25T11:20:56.205199Z",
     "iopub.status.busy": "2021-09-25T11:20:56.203187Z",
     "iopub.status.idle": "2021-09-25T11:20:56.241597Z",
     "shell.execute_reply": "2021-09-25T11:20:56.240200Z"
    },
    "papermill": {
     "duration": 0.07618,
     "end_time": "2021-09-25T11:20:56.241746",
     "exception": false,
     "start_time": "2021-09-25T11:20:56.165566",
     "status": "completed"
    },
    "tags": []
   },
   "outputs": [
    {
     "data": {
      "text/html": [
       "<table class=\"dataframe\">\n",
       "<caption>A tibble: 6 × 3</caption>\n",
       "<thead>\n",
       "\t<tr><th scope=col>Id</th><th scope=col>ActivityDay</th><th scope=col>StepTotal</th></tr>\n",
       "\t<tr><th scope=col>&lt;dbl&gt;</th><th scope=col>&lt;chr&gt;</th><th scope=col>&lt;dbl&gt;</th></tr>\n",
       "</thead>\n",
       "<tbody>\n",
       "\t<tr><td>1503960366</td><td>4/12/2016</td><td>13162</td></tr>\n",
       "\t<tr><td>1503960366</td><td>4/13/2016</td><td>10735</td></tr>\n",
       "\t<tr><td>1503960366</td><td>4/14/2016</td><td>10460</td></tr>\n",
       "\t<tr><td>1503960366</td><td>4/15/2016</td><td> 9762</td></tr>\n",
       "\t<tr><td>1503960366</td><td>4/16/2016</td><td>12669</td></tr>\n",
       "\t<tr><td>1503960366</td><td>4/17/2016</td><td> 9705</td></tr>\n",
       "</tbody>\n",
       "</table>\n"
      ],
      "text/latex": [
       "A tibble: 6 × 3\n",
       "\\begin{tabular}{lll}\n",
       " Id & ActivityDay & StepTotal\\\\\n",
       " <dbl> & <chr> & <dbl>\\\\\n",
       "\\hline\n",
       "\t 1503960366 & 4/12/2016 & 13162\\\\\n",
       "\t 1503960366 & 4/13/2016 & 10735\\\\\n",
       "\t 1503960366 & 4/14/2016 & 10460\\\\\n",
       "\t 1503960366 & 4/15/2016 &  9762\\\\\n",
       "\t 1503960366 & 4/16/2016 & 12669\\\\\n",
       "\t 1503960366 & 4/17/2016 &  9705\\\\\n",
       "\\end{tabular}\n"
      ],
      "text/markdown": [
       "\n",
       "A tibble: 6 × 3\n",
       "\n",
       "| Id &lt;dbl&gt; | ActivityDay &lt;chr&gt; | StepTotal &lt;dbl&gt; |\n",
       "|---|---|---|\n",
       "| 1503960366 | 4/12/2016 | 13162 |\n",
       "| 1503960366 | 4/13/2016 | 10735 |\n",
       "| 1503960366 | 4/14/2016 | 10460 |\n",
       "| 1503960366 | 4/15/2016 |  9762 |\n",
       "| 1503960366 | 4/16/2016 | 12669 |\n",
       "| 1503960366 | 4/17/2016 |  9705 |\n",
       "\n"
      ],
      "text/plain": [
       "  Id         ActivityDay StepTotal\n",
       "1 1503960366 4/12/2016   13162    \n",
       "2 1503960366 4/13/2016   10735    \n",
       "3 1503960366 4/14/2016   10460    \n",
       "4 1503960366 4/15/2016    9762    \n",
       "5 1503960366 4/16/2016   12669    \n",
       "6 1503960366 4/17/2016    9705    "
      ]
     },
     "metadata": {},
     "output_type": "display_data"
    }
   ],
   "source": [
    "head(daily_steps)"
   ]
  },
  {
   "cell_type": "markdown",
   "id": "6cfbd032",
   "metadata": {
    "papermill": {
     "duration": 0.033771,
     "end_time": "2021-09-25T11:20:56.310442",
     "exception": false,
     "start_time": "2021-09-25T11:20:56.276671",
     "status": "completed"
    },
    "tags": []
   },
   "source": [
    "***sleep_day:***"
   ]
  },
  {
   "cell_type": "code",
   "execution_count": 8,
   "id": "7324c635",
   "metadata": {
    "execution": {
     "iopub.execute_input": "2021-09-25T11:20:56.383738Z",
     "iopub.status.busy": "2021-09-25T11:20:56.382189Z",
     "iopub.status.idle": "2021-09-25T11:20:56.409664Z",
     "shell.execute_reply": "2021-09-25T11:20:56.408002Z"
    },
    "papermill": {
     "duration": 0.065172,
     "end_time": "2021-09-25T11:20:56.409812",
     "exception": false,
     "start_time": "2021-09-25T11:20:56.344640",
     "status": "completed"
    },
    "tags": []
   },
   "outputs": [
    {
     "data": {
      "text/html": [
       "<table class=\"dataframe\">\n",
       "<caption>A tibble: 6 × 5</caption>\n",
       "<thead>\n",
       "\t<tr><th scope=col>Id</th><th scope=col>SleepDay</th><th scope=col>TotalSleepRecords</th><th scope=col>TotalMinutesAsleep</th><th scope=col>TotalTimeInBed</th></tr>\n",
       "\t<tr><th scope=col>&lt;dbl&gt;</th><th scope=col>&lt;chr&gt;</th><th scope=col>&lt;dbl&gt;</th><th scope=col>&lt;dbl&gt;</th><th scope=col>&lt;dbl&gt;</th></tr>\n",
       "</thead>\n",
       "<tbody>\n",
       "\t<tr><td>1503960366</td><td>4/12/2016 12:00:00 AM</td><td>1</td><td>327</td><td>346</td></tr>\n",
       "\t<tr><td>1503960366</td><td>4/13/2016 12:00:00 AM</td><td>2</td><td>384</td><td>407</td></tr>\n",
       "\t<tr><td>1503960366</td><td>4/15/2016 12:00:00 AM</td><td>1</td><td>412</td><td>442</td></tr>\n",
       "\t<tr><td>1503960366</td><td>4/16/2016 12:00:00 AM</td><td>2</td><td>340</td><td>367</td></tr>\n",
       "\t<tr><td>1503960366</td><td>4/17/2016 12:00:00 AM</td><td>1</td><td>700</td><td>712</td></tr>\n",
       "\t<tr><td>1503960366</td><td>4/19/2016 12:00:00 AM</td><td>1</td><td>304</td><td>320</td></tr>\n",
       "</tbody>\n",
       "</table>\n"
      ],
      "text/latex": [
       "A tibble: 6 × 5\n",
       "\\begin{tabular}{lllll}\n",
       " Id & SleepDay & TotalSleepRecords & TotalMinutesAsleep & TotalTimeInBed\\\\\n",
       " <dbl> & <chr> & <dbl> & <dbl> & <dbl>\\\\\n",
       "\\hline\n",
       "\t 1503960366 & 4/12/2016 12:00:00 AM & 1 & 327 & 346\\\\\n",
       "\t 1503960366 & 4/13/2016 12:00:00 AM & 2 & 384 & 407\\\\\n",
       "\t 1503960366 & 4/15/2016 12:00:00 AM & 1 & 412 & 442\\\\\n",
       "\t 1503960366 & 4/16/2016 12:00:00 AM & 2 & 340 & 367\\\\\n",
       "\t 1503960366 & 4/17/2016 12:00:00 AM & 1 & 700 & 712\\\\\n",
       "\t 1503960366 & 4/19/2016 12:00:00 AM & 1 & 304 & 320\\\\\n",
       "\\end{tabular}\n"
      ],
      "text/markdown": [
       "\n",
       "A tibble: 6 × 5\n",
       "\n",
       "| Id &lt;dbl&gt; | SleepDay &lt;chr&gt; | TotalSleepRecords &lt;dbl&gt; | TotalMinutesAsleep &lt;dbl&gt; | TotalTimeInBed &lt;dbl&gt; |\n",
       "|---|---|---|---|---|\n",
       "| 1503960366 | 4/12/2016 12:00:00 AM | 1 | 327 | 346 |\n",
       "| 1503960366 | 4/13/2016 12:00:00 AM | 2 | 384 | 407 |\n",
       "| 1503960366 | 4/15/2016 12:00:00 AM | 1 | 412 | 442 |\n",
       "| 1503960366 | 4/16/2016 12:00:00 AM | 2 | 340 | 367 |\n",
       "| 1503960366 | 4/17/2016 12:00:00 AM | 1 | 700 | 712 |\n",
       "| 1503960366 | 4/19/2016 12:00:00 AM | 1 | 304 | 320 |\n",
       "\n"
      ],
      "text/plain": [
       "  Id         SleepDay              TotalSleepRecords TotalMinutesAsleep\n",
       "1 1503960366 4/12/2016 12:00:00 AM 1                 327               \n",
       "2 1503960366 4/13/2016 12:00:00 AM 2                 384               \n",
       "3 1503960366 4/15/2016 12:00:00 AM 1                 412               \n",
       "4 1503960366 4/16/2016 12:00:00 AM 2                 340               \n",
       "5 1503960366 4/17/2016 12:00:00 AM 1                 700               \n",
       "6 1503960366 4/19/2016 12:00:00 AM 1                 304               \n",
       "  TotalTimeInBed\n",
       "1 346           \n",
       "2 407           \n",
       "3 442           \n",
       "4 367           \n",
       "5 712           \n",
       "6 320           "
      ]
     },
     "metadata": {},
     "output_type": "display_data"
    }
   ],
   "source": [
    "head(sleep_day)"
   ]
  },
  {
   "cell_type": "markdown",
   "id": "03a83b59",
   "metadata": {
    "papermill": {
     "duration": 0.034733,
     "end_time": "2021-09-25T11:20:56.479378",
     "exception": false,
     "start_time": "2021-09-25T11:20:56.444645",
     "status": "completed"
    },
    "tags": []
   },
   "source": [
    "***weight_log:***"
   ]
  },
  {
   "cell_type": "code",
   "execution_count": 9,
   "id": "0880d787",
   "metadata": {
    "execution": {
     "iopub.execute_input": "2021-09-25T11:20:56.556302Z",
     "iopub.status.busy": "2021-09-25T11:20:56.554347Z",
     "iopub.status.idle": "2021-09-25T11:20:56.582843Z",
     "shell.execute_reply": "2021-09-25T11:20:56.581176Z"
    },
    "papermill": {
     "duration": 0.068638,
     "end_time": "2021-09-25T11:20:56.583004",
     "exception": false,
     "start_time": "2021-09-25T11:20:56.514366",
     "status": "completed"
    },
    "tags": []
   },
   "outputs": [
    {
     "data": {
      "text/html": [
       "<table class=\"dataframe\">\n",
       "<caption>A tibble: 6 × 8</caption>\n",
       "<thead>\n",
       "\t<tr><th scope=col>Id</th><th scope=col>Date</th><th scope=col>WeightKg</th><th scope=col>WeightPounds</th><th scope=col>Fat</th><th scope=col>BMI</th><th scope=col>IsManualReport</th><th scope=col>LogId</th></tr>\n",
       "\t<tr><th scope=col>&lt;dbl&gt;</th><th scope=col>&lt;chr&gt;</th><th scope=col>&lt;dbl&gt;</th><th scope=col>&lt;dbl&gt;</th><th scope=col>&lt;dbl&gt;</th><th scope=col>&lt;dbl&gt;</th><th scope=col>&lt;lgl&gt;</th><th scope=col>&lt;dbl&gt;</th></tr>\n",
       "</thead>\n",
       "<tbody>\n",
       "\t<tr><td>1503960366</td><td>5/2/2016 11:59:59 PM </td><td> 52.6</td><td>115.9631</td><td>22</td><td>22.65</td><td> TRUE</td><td>1.462234e+12</td></tr>\n",
       "\t<tr><td>1503960366</td><td>5/3/2016 11:59:59 PM </td><td> 52.6</td><td>115.9631</td><td>NA</td><td>22.65</td><td> TRUE</td><td>1.462320e+12</td></tr>\n",
       "\t<tr><td>1927972279</td><td>4/13/2016 1:08:52 AM </td><td>133.5</td><td>294.3171</td><td>NA</td><td>47.54</td><td>FALSE</td><td>1.460510e+12</td></tr>\n",
       "\t<tr><td>2873212765</td><td>4/21/2016 11:59:59 PM</td><td> 56.7</td><td>125.0021</td><td>NA</td><td>21.45</td><td> TRUE</td><td>1.461283e+12</td></tr>\n",
       "\t<tr><td>2873212765</td><td>5/12/2016 11:59:59 PM</td><td> 57.3</td><td>126.3249</td><td>NA</td><td>21.69</td><td> TRUE</td><td>1.463098e+12</td></tr>\n",
       "\t<tr><td>4319703577</td><td>4/17/2016 11:59:59 PM</td><td> 72.4</td><td>159.6147</td><td>25</td><td>27.45</td><td> TRUE</td><td>1.460938e+12</td></tr>\n",
       "</tbody>\n",
       "</table>\n"
      ],
      "text/latex": [
       "A tibble: 6 × 8\n",
       "\\begin{tabular}{llllllll}\n",
       " Id & Date & WeightKg & WeightPounds & Fat & BMI & IsManualReport & LogId\\\\\n",
       " <dbl> & <chr> & <dbl> & <dbl> & <dbl> & <dbl> & <lgl> & <dbl>\\\\\n",
       "\\hline\n",
       "\t 1503960366 & 5/2/2016 11:59:59 PM  &  52.6 & 115.9631 & 22 & 22.65 &  TRUE & 1.462234e+12\\\\\n",
       "\t 1503960366 & 5/3/2016 11:59:59 PM  &  52.6 & 115.9631 & NA & 22.65 &  TRUE & 1.462320e+12\\\\\n",
       "\t 1927972279 & 4/13/2016 1:08:52 AM  & 133.5 & 294.3171 & NA & 47.54 & FALSE & 1.460510e+12\\\\\n",
       "\t 2873212765 & 4/21/2016 11:59:59 PM &  56.7 & 125.0021 & NA & 21.45 &  TRUE & 1.461283e+12\\\\\n",
       "\t 2873212765 & 5/12/2016 11:59:59 PM &  57.3 & 126.3249 & NA & 21.69 &  TRUE & 1.463098e+12\\\\\n",
       "\t 4319703577 & 4/17/2016 11:59:59 PM &  72.4 & 159.6147 & 25 & 27.45 &  TRUE & 1.460938e+12\\\\\n",
       "\\end{tabular}\n"
      ],
      "text/markdown": [
       "\n",
       "A tibble: 6 × 8\n",
       "\n",
       "| Id &lt;dbl&gt; | Date &lt;chr&gt; | WeightKg &lt;dbl&gt; | WeightPounds &lt;dbl&gt; | Fat &lt;dbl&gt; | BMI &lt;dbl&gt; | IsManualReport &lt;lgl&gt; | LogId &lt;dbl&gt; |\n",
       "|---|---|---|---|---|---|---|---|\n",
       "| 1503960366 | 5/2/2016 11:59:59 PM  |  52.6 | 115.9631 | 22 | 22.65 |  TRUE | 1.462234e+12 |\n",
       "| 1503960366 | 5/3/2016 11:59:59 PM  |  52.6 | 115.9631 | NA | 22.65 |  TRUE | 1.462320e+12 |\n",
       "| 1927972279 | 4/13/2016 1:08:52 AM  | 133.5 | 294.3171 | NA | 47.54 | FALSE | 1.460510e+12 |\n",
       "| 2873212765 | 4/21/2016 11:59:59 PM |  56.7 | 125.0021 | NA | 21.45 |  TRUE | 1.461283e+12 |\n",
       "| 2873212765 | 5/12/2016 11:59:59 PM |  57.3 | 126.3249 | NA | 21.69 |  TRUE | 1.463098e+12 |\n",
       "| 4319703577 | 4/17/2016 11:59:59 PM |  72.4 | 159.6147 | 25 | 27.45 |  TRUE | 1.460938e+12 |\n",
       "\n"
      ],
      "text/plain": [
       "  Id         Date                  WeightKg WeightPounds Fat BMI  \n",
       "1 1503960366 5/2/2016 11:59:59 PM   52.6    115.9631     22  22.65\n",
       "2 1503960366 5/3/2016 11:59:59 PM   52.6    115.9631     NA  22.65\n",
       "3 1927972279 4/13/2016 1:08:52 AM  133.5    294.3171     NA  47.54\n",
       "4 2873212765 4/21/2016 11:59:59 PM  56.7    125.0021     NA  21.45\n",
       "5 2873212765 5/12/2016 11:59:59 PM  57.3    126.3249     NA  21.69\n",
       "6 4319703577 4/17/2016 11:59:59 PM  72.4    159.6147     25  27.45\n",
       "  IsManualReport LogId       \n",
       "1  TRUE          1.462234e+12\n",
       "2  TRUE          1.462320e+12\n",
       "3 FALSE          1.460510e+12\n",
       "4  TRUE          1.461283e+12\n",
       "5  TRUE          1.463098e+12\n",
       "6  TRUE          1.460938e+12"
      ]
     },
     "metadata": {},
     "output_type": "display_data"
    }
   ],
   "source": [
    "head(weight_log)"
   ]
  },
  {
   "cell_type": "markdown",
   "id": "6677427d",
   "metadata": {
    "papermill": {
     "duration": 0.035997,
     "end_time": "2021-09-25T11:20:56.655768",
     "exception": false,
     "start_time": "2021-09-25T11:20:56.619771",
     "status": "completed"
    },
    "tags": []
   },
   "source": [
    "### **Removing data frames:**\n",
    "\n",
    "All six of the data frames contain the “Id” column, so it is possible to merge all of them. The daily_activity data frame appears to contain data for calories, intensities, and steps. In order to use the daily_activity frame in place of daily_calories, daily_intensities, and daily_steps, the number of observations must be the same and the observations must match for each ID number."
   ]
  },
  {
   "cell_type": "code",
   "execution_count": 10,
   "id": "9887e4ff",
   "metadata": {
    "execution": {
     "iopub.execute_input": "2021-09-25T11:20:56.732704Z",
     "iopub.status.busy": "2021-09-25T11:20:56.731110Z",
     "iopub.status.idle": "2021-09-25T11:20:56.954024Z",
     "shell.execute_reply": "2021-09-25T11:20:56.952647Z"
    },
    "papermill": {
     "duration": 0.26274,
     "end_time": "2021-09-25T11:20:56.954174",
     "exception": false,
     "start_time": "2021-09-25T11:20:56.691434",
     "status": "completed"
    },
    "tags": []
   },
   "outputs": [],
   "source": [
    "merge_1 <- merge(daily_activity, daily_calories, by = c(\"Id\", \"Calories\"))\n",
    "merge_2 <- merge(daily_intensities, daily_intensities, by = c(\"Id\",\"ActivityDay\",\"SedentaryMinutes\", \"LightlyActiveMinutes\",\"FairlyActiveMinutes\",\"VeryActiveMinutes\", \"SedentaryActiveDistance\", \"LightActiveDistance\", \"ModeratelyActiveDistance\", \"VeryActiveDistance\"))\n",
    "\n",
    "merge_daily <- merge(merge_1, merge_2, by = c(\"Id\",\"ActivityDay\",\"SedentaryMinutes\", \"LightlyActiveMinutes\",\"FairlyActiveMinutes\",\"VeryActiveMinutes\", \"SedentaryActiveDistance\", \"LightActiveDistance\", \"ModeratelyActiveDistance\", \"VeryActiveDistance\")) %>%\n",
    "select(-ActivityDay) %>% rename(Date = ActivityDate)\n",
    "\n",
    "daily_data <- merge(merge_daily, sleep_day, by = \"Id\",all=TRUE) %>% drop_na() %>% select(-SleepDay, -TrackerDistance)\n",
    "\n",
    "options(repr.plot.width=30)"
   ]
  },
  {
   "cell_type": "markdown",
   "id": "161866f4",
   "metadata": {
    "papermill": {
     "duration": 0.035715,
     "end_time": "2021-09-25T11:20:57.025963",
     "exception": false,
     "start_time": "2021-09-25T11:20:56.990248",
     "status": "completed"
    },
    "tags": []
   },
   "source": [
    "The outputs of the head function of the temporary data frames match those of the original data frames."
   ]
  },
  {
   "cell_type": "code",
   "execution_count": 11,
   "id": "484f2323",
   "metadata": {
    "execution": {
     "iopub.execute_input": "2021-09-25T11:20:57.104280Z",
     "iopub.status.busy": "2021-09-25T11:20:57.102913Z",
     "iopub.status.idle": "2021-09-25T11:20:57.300022Z",
     "shell.execute_reply": "2021-09-25T11:20:57.298458Z"
    },
    "papermill": {
     "duration": 0.237876,
     "end_time": "2021-09-25T11:20:57.300175",
     "exception": false,
     "start_time": "2021-09-25T11:20:57.062299",
     "status": "completed"
    },
    "tags": []
   },
   "outputs": [
    {
     "data": {
      "text/plain": [
       "       Id            SedentaryMinutes LightlyActiveMinutes FairlyActiveMinutes\n",
       " Min.   :1.504e+09   Min.   :   0.0   Min.   :  0.0        Min.   :  0.00     \n",
       " 1st Qu.:4.020e+09   1st Qu.: 687.0   1st Qu.:  0.0        1st Qu.:  0.00     \n",
       " Median :4.703e+09   Median : 781.0   Median :171.0        Median :  3.00     \n",
       " Mean   :5.117e+09   Mean   : 938.6   Mean   :156.4        Mean   : 13.58     \n",
       " 3rd Qu.:6.962e+09   3rd Qu.:1440.0   3rd Qu.:240.0        3rd Qu.: 19.00     \n",
       " Max.   :8.792e+09   Max.   :1440.0   Max.   :518.0        Max.   :143.00     \n",
       " VeryActiveMinutes SedentaryActiveDistance LightActiveDistance\n",
       " Min.   :  0.00    Min.   :0.0000000       Min.   : 0.000     \n",
       " 1st Qu.:  0.00    1st Qu.:0.0000000       1st Qu.: 0.000     \n",
       " Median :  0.00    Median :0.0000000       Median : 2.860     \n",
       " Mean   : 18.76    Mean   :0.0005276       Mean   : 2.771     \n",
       " 3rd Qu.: 28.00    3rd Qu.:0.0000000       3rd Qu.: 4.480     \n",
       " Max.   :210.00    Max.   :0.1100000       Max.   :10.300     \n",
       " ModeratelyActiveDistance VeryActiveDistance    Calories        Date          \n",
       " Min.   :0.0000           Min.   : 0.000     Min.   :   0   Length:15901      \n",
       " 1st Qu.:0.0000           1st Qu.: 0.000     1st Qu.:1693   Class :character  \n",
       " Median :0.1100           Median : 0.000     Median :2013   Mode  :character  \n",
       " Mean   :0.5729           Mean   : 1.094     Mean   :2220                     \n",
       " 3rd Qu.:0.7900           3rd Qu.: 1.740     3rd Qu.:2643                     \n",
       " Max.   :6.4800           Max.   :13.400     Max.   :4900                     \n",
       "   TotalSteps    TotalDistance    LoggedActivitiesDistance TotalSleepRecords\n",
       " Min.   :    0   Min.   : 0.000   Min.   :0.00000          Min.   :1.000    \n",
       " 1st Qu.:    0   1st Qu.: 0.000   1st Qu.:0.00000          1st Qu.:1.000    \n",
       " Median : 6393   Median : 4.480   Median :0.00000          Median :1.000    \n",
       " Mean   : 6351   Mean   : 4.487   Mean   :0.09649          Mean   :1.116    \n",
       " 3rd Qu.:10460   3rd Qu.: 7.390   3rd Qu.:0.00000          3rd Qu.:1.000    \n",
       " Max.   :22988   Max.   :17.950   Max.   :4.94214          Max.   :3.000    \n",
       " TotalMinutesAsleep TotalTimeInBed \n",
       " Min.   : 58.0      Min.   : 61.0  \n",
       " 1st Qu.:360.0      1st Qu.:402.0  \n",
       " Median :427.0      Median :459.0  \n",
       " Mean   :417.3      Mean   :456.1  \n",
       " 3rd Qu.:490.0      3rd Qu.:530.0  \n",
       " Max.   :796.0      Max.   :961.0  "
      ]
     },
     "metadata": {},
     "output_type": "display_data"
    }
   ],
   "source": [
    "\n",
    "summary(daily_data)\n"
   ]
  },
  {
   "cell_type": "markdown",
   "id": "02cefb33",
   "metadata": {
    "papermill": {
     "duration": 0.036346,
     "end_time": "2021-09-25T11:20:57.372868",
     "exception": false,
     "start_time": "2021-09-25T11:20:57.336522",
     "status": "completed"
    },
    "tags": []
   },
   "source": [
    "## **PROCESS & ANALYSE:**"
   ]
  },
  {
   "cell_type": "markdown",
   "id": "f30a99ff",
   "metadata": {
    "execution": {
     "iopub.execute_input": "2021-09-25T09:32:25.328133Z",
     "iopub.status.busy": "2021-09-25T09:32:25.326312Z",
     "iopub.status.idle": "2021-09-25T09:32:25.399392Z"
    },
    "papermill": {
     "duration": 0.036158,
     "end_time": "2021-09-25T11:20:57.445151",
     "exception": false,
     "start_time": "2021-09-25T11:20:57.408993",
     "status": "completed"
    },
    "tags": []
   },
   "source": [
    "**Key objectives:**\n",
    "\n",
    "* Clean and prepare the data for analysis:"
   ]
  },
  {
   "cell_type": "markdown",
   "id": "79ed7498",
   "metadata": {
    "papermill": {
     "duration": 0.036164,
     "end_time": "2021-09-25T11:20:57.517549",
     "exception": false,
     "start_time": "2021-09-25T11:20:57.481385",
     "status": "completed"
    },
    "tags": []
   },
   "source": [
    " The data is further categorised into four based on the activity type the user has done most."
   ]
  },
  {
   "cell_type": "code",
   "execution_count": 12,
   "id": "3048f0b7",
   "metadata": {
    "execution": {
     "iopub.execute_input": "2021-09-25T11:20:57.595602Z",
     "iopub.status.busy": "2021-09-25T11:20:57.594155Z",
     "iopub.status.idle": "2021-09-25T11:20:57.638666Z",
     "shell.execute_reply": "2021-09-25T11:20:57.637329Z"
    },
    "papermill": {
     "duration": 0.085159,
     "end_time": "2021-09-25T11:20:57.638820",
     "exception": false,
     "start_time": "2021-09-25T11:20:57.553661",
     "status": "completed"
    },
    "tags": []
   },
   "outputs": [],
   "source": [
    "data_by_usertype <- daily_data %>%\n",
    "summarise(\n",
    "user_type = factor(case_when(\n",
    "    SedentaryMinutes > mean(SedentaryMinutes) & LightlyActiveMinutes < mean(LightlyActiveMinutes) & FairlyActiveMinutes < mean(FairlyActiveMinutes) & VeryActiveMinutes < mean(VeryActiveMinutes) ~ \"Sedentary\",\n",
    "    SedentaryMinutes < mean(SedentaryMinutes) & LightlyActiveMinutes > mean(LightlyActiveMinutes) & FairlyActiveMinutes < mean(FairlyActiveMinutes) & VeryActiveMinutes < mean(VeryActiveMinutes) ~ \"Lightly Active\",\n",
    "    SedentaryMinutes < mean(SedentaryMinutes) & LightlyActiveMinutes < mean(LightlyActiveMinutes) & FairlyActiveMinutes > mean(FairlyActiveMinutes) & VeryActiveMinutes < mean(VeryActiveMinutes) ~ \"Fairly Active\",\n",
    "    SedentaryMinutes < mean(SedentaryMinutes) & LightlyActiveMinutes < mean(LightlyActiveMinutes) & FairlyActiveMinutes < mean(FairlyActiveMinutes) & VeryActiveMinutes > mean(VeryActiveMinutes) ~ \"Very Active\",\n",
    "),levels=c(\"Sedentary\", \"Lightly Active\", \"Fairly Active\", \"Very Active\")), Calories, .group=Id) %>%\n",
    "drop_na()"
   ]
  },
  {
   "cell_type": "markdown",
   "id": "9bd909b0",
   "metadata": {
    "papermill": {
     "duration": 0.036061,
     "end_time": "2021-09-25T11:20:57.710991",
     "exception": false,
     "start_time": "2021-09-25T11:20:57.674930",
     "status": "completed"
    },
    "tags": []
   },
   "source": [
    "Now i can understand how calories are burned according to the type of activity a user prefers."
   ]
  },
  {
   "cell_type": "code",
   "execution_count": 13,
   "id": "7316c990",
   "metadata": {
    "execution": {
     "iopub.execute_input": "2021-09-25T11:20:57.790000Z",
     "iopub.status.busy": "2021-09-25T11:20:57.788526Z",
     "iopub.status.idle": "2021-09-25T11:20:58.959552Z",
     "shell.execute_reply": "2021-09-25T11:20:58.957398Z"
    },
    "papermill": {
     "duration": 1.21137,
     "end_time": "2021-09-25T11:20:58.959734",
     "exception": false,
     "start_time": "2021-09-25T11:20:57.748364",
     "status": "completed"
    },
    "tags": []
   },
   "outputs": [
    {
     "data": {
      "image/png": "[encoded data removed]"
     },
     "metadata": {
      "image/png": {
       "height": 420,
       "width": 1800
      }
     },
     "output_type": "display_data"
    },
    {
     "data": {
      "image/png": "[encoded data removed]"
     },
     "metadata": {
      "image/png": {
       "height": 420,
       "width": 1800
      }
     },
     "output_type": "display_data"
    }
   ],
   "source": [
    "data_by_usertype %>%\n",
    "group_by(user_type) %>%\n",
    "summarise(total = n()) %>%\n",
    "mutate(totals = sum(total)) %>%\n",
    "group_by(user_type) %>%\n",
    "summarise(total_percent = total / totals) %>%\n",
    "ggplot(aes(user_type,y=total_percent, fill=user_type)) +\n",
    "    geom_col()+\n",
    "    scale_y_continuous(labels = scales::percent) +\n",
    "    theme(legend.position=\"none\") +\n",
    "    labs(title=\"User type distridution\", x=NULL) +\n",
    "    theme(legend.position=\"none\", text = element_text(size = 20),plot.title = element_text(hjust = 0.5))\n",
    "\n",
    "ggplot(data_by_usertype, aes(user_type, Calories, fill=user_type)) +\n",
    "    geom_boxplot() +\n",
    "    theme(legend.position=\"none\") +\n",
    "    labs(title=\"Calories burned by User type\", x=NULL) +\n",
    "    theme(legend.position=\"none\", text = element_text(size = 20),plot.title = element_text(hjust = 0.5))"
   ]
  },
  {
   "cell_type": "markdown",
   "id": "9c06b4cb",
   "metadata": {
    "execution": {
     "iopub.execute_input": "2021-09-25T10:32:12.188041Z",
     "iopub.status.busy": "2021-09-25T10:32:12.186440Z",
     "iopub.status.idle": "2021-09-25T10:32:12.201222Z"
    },
    "papermill": {
     "duration": 0.040125,
     "end_time": "2021-09-25T11:20:59.039447",
     "exception": false,
     "start_time": "2021-09-25T11:20:58.999322",
     "status": "completed"
    },
    "tags": []
   },
   "source": [
    "* It is not surprising to see that the users who do more of the  fairly active and very active activities burn more calories compared to the other categories. We can also see that a large part of the users prefer to do sedentary activities."
   ]
  },
  {
   "cell_type": "code",
   "execution_count": 14,
   "id": "79391c44",
   "metadata": {
    "execution": {
     "iopub.execute_input": "2021-09-25T11:20:59.125437Z",
     "iopub.status.busy": "2021-09-25T11:20:59.123932Z",
     "iopub.status.idle": "2021-09-25T11:21:00.089271Z",
     "shell.execute_reply": "2021-09-25T11:21:00.086959Z"
    },
    "papermill": {
     "duration": 1.010201,
     "end_time": "2021-09-25T11:21:00.089431",
     "exception": false,
     "start_time": "2021-09-25T11:20:59.079230",
     "status": "completed"
    },
    "tags": []
   },
   "outputs": [
    {
     "data": {
      "image/png": "[encoded data removed]"
     },
     "metadata": {
      "image/png": {
       "height": 420,
       "width": 1800
      }
     },
     "output_type": "display_data"
    }
   ],
   "source": [
    "daily_data %>%\n",
    "summarise(\n",
    "distance = factor(case_when(\n",
    "    TotalDistance < 4.5 ~ \"< 4.5 mi\",\n",
    "    TotalDistance >= 4.5 & TotalDistance <= 7 ~ \"4.5 > & < 7 mi\",\n",
    "    TotalDistance > 7 ~ \"> 7 mi\",\n",
    "),levels = c(\"> 7 mi\",\"4.5 > & < 7 mi\",\"< 4.5 mi\")),\n",
    "steps = factor(case_when(\n",
    "    TotalSteps < 6000 ~ \"< 6k steps\",\n",
    "    TotalSteps >= 6000 & TotalSteps <= 10000 ~ \"6k > & < 10k Steps\",\n",
    "    TotalSteps > 10000 ~ \"> 10k Steps\",\n",
    "),levels = c(\"> 10k Steps\",\"6k > & < 10k Steps\",\"< 6k steps\")),\n",
    "Calories) %>%\n",
    "ggplot(aes(steps,Calories,fill=steps)) +\n",
    "    geom_boxplot() +\n",
    "    facet_wrap(~distance)+\n",
    "    labs(title=\"Calories burned by Steps and Distance\",x=NULL) +\n",
    "    theme(legend.position=\"none\", text = element_text(size = 20),plot.title = element_text(hjust = 0.5))"
   ]
  },
  {
   "cell_type": "markdown",
   "id": "5eeaf298",
   "metadata": {
    "papermill": {
     "duration": 0.041944,
     "end_time": "2021-09-25T11:21:00.173860",
     "exception": false,
     "start_time": "2021-09-25T11:21:00.131916",
     "status": "completed"
    },
    "tags": []
   },
   "source": [
    "* The boxplot above shows the calories burned by the three categories of steps based on the summary values and then its faceted by the three categories of distance traveled.This shows that the most calories burned are the \"6k > & < 10k Steps\" and \"> 7 miles\" which would indicate some kind of running activity that allows the user to traverse more distance with less steps.\n",
    "* The speed at which the activity is performed is significant in the amount of calories burned."
   ]
  },
  {
   "cell_type": "markdown",
   "id": "a616a958",
   "metadata": {
    "papermill": {
     "duration": 0.042222,
     "end_time": "2021-09-25T11:21:00.257521",
     "exception": false,
     "start_time": "2021-09-25T11:21:00.215299",
     "status": "completed"
    },
    "tags": []
   },
   "source": [
    "To focus on the impact of **Sleep quality** i will create a new table with sleeping categories for each individual user type:"
   ]
  },
  {
   "cell_type": "code",
   "execution_count": 15,
   "id": "e401c166",
   "metadata": {
    "execution": {
     "iopub.execute_input": "2021-09-25T11:21:00.348672Z",
     "iopub.status.busy": "2021-09-25T11:21:00.346495Z",
     "iopub.status.idle": "2021-09-25T11:21:00.401227Z",
     "shell.execute_reply": "2021-09-25T11:21:00.399536Z"
    },
    "papermill": {
     "duration": 0.101182,
     "end_time": "2021-09-25T11:21:00.401380",
     "exception": false,
     "start_time": "2021-09-25T11:21:00.300198",
     "status": "completed"
    },
    "tags": []
   },
   "outputs": [],
   "source": [
    "sleepType_by_userType <- daily_data %>%\n",
    "group_by(Id) %>%\n",
    "summarise(\n",
    "user_type = factor(case_when(\n",
    "    SedentaryMinutes > mean(SedentaryMinutes) & LightlyActiveMinutes < mean(LightlyActiveMinutes) & FairlyActiveMinutes < mean(FairlyActiveMinutes) & VeryActiveMinutes < mean(VeryActiveMinutes) ~ \"Sedentary\",\n",
    "    SedentaryMinutes < mean(SedentaryMinutes) & LightlyActiveMinutes > mean(LightlyActiveMinutes) & FairlyActiveMinutes < mean(FairlyActiveMinutes) & VeryActiveMinutes < mean(VeryActiveMinutes) ~ \"Lightly Active\",\n",
    "    SedentaryMinutes < mean(SedentaryMinutes) & LightlyActiveMinutes < mean(LightlyActiveMinutes) & FairlyActiveMinutes > mean(FairlyActiveMinutes) & VeryActiveMinutes < mean(VeryActiveMinutes) ~ \"Fairly Active\",\n",
    "    SedentaryMinutes < mean(SedentaryMinutes) & LightlyActiveMinutes < mean(LightlyActiveMinutes) & FairlyActiveMinutes < mean(FairlyActiveMinutes) & VeryActiveMinutes > mean(VeryActiveMinutes) ~ \"Very Active\",\n",
    "),levels=c(\"Sedentary\", \"Lightly Active\", \"Fairly Active\", \"Very Active\")),\n",
    "sleep_type = factor(case_when(\n",
    "    mean(TotalMinutesAsleep) < 360 ~ \"Bad Sleep\",\n",
    "    mean(TotalMinutesAsleep) > 360 & mean(TotalMinutesAsleep) <= 480 ~ \"Normal Sleep\",\n",
    "    mean(TotalMinutesAsleep) > 480 ~ \"Over Sleep\",\n",
    "),levels=c(\"Bad Sleep\", \"Normal Sleep\", \"Over Sleep\")), total_sleep = sum(TotalMinutesAsleep) ,.groups=\"drop\"\n",
    ") %>%\n",
    "drop_na() %>%\n",
    "group_by(user_type) %>%\n",
    "summarise(bad_sleepers = sum(sleep_type == \"Bad Sleep\"), normal_sleepers = sum(sleep_type == \"Normal Sleep\"),over_sleepers = sum(sleep_type == \"Over Sleep\"),total=n(),.groups=\"drop\") %>%\n",
    "group_by(user_type) %>%\n",
    "summarise(\n",
    "    bad_sleepers = bad_sleepers / total, \n",
    "    normal_sleepers = normal_sleepers / total, \n",
    "    over_sleepers = over_sleepers / total,\n",
    "    .groups=\"drop\"\n",
    ")\n"
   ]
  },
  {
   "cell_type": "code",
   "execution_count": 16,
   "id": "8a0a491b",
   "metadata": {
    "execution": {
     "iopub.execute_input": "2021-09-25T11:21:00.490824Z",
     "iopub.status.busy": "2021-09-25T11:21:00.489281Z",
     "iopub.status.idle": "2021-09-25T11:21:00.939096Z",
     "shell.execute_reply": "2021-09-25T11:21:00.938068Z"
    },
    "papermill": {
     "duration": 0.495526,
     "end_time": "2021-09-25T11:21:00.939243",
     "exception": false,
     "start_time": "2021-09-25T11:21:00.443717",
     "status": "completed"
    },
    "tags": []
   },
   "outputs": [
    {
     "data": {
      "image/png": "[encoded data removed]"
     },
     "metadata": {
      "image/png": {
       "height": 420,
       "width": 1800
      }
     },
     "output_type": "display_data"
    }
   ],
   "source": [
    "sleepType_by_userType_melted<- melt(sleepType_by_userType, id.vars = \"user_type\")\n",
    "\n",
    "ggplot(sleepType_by_userType_melted, aes(user_type, value, fill = variable)) +\n",
    "geom_bar(position = \"dodge\", stat = \"identity\") +\n",
    "scale_y_continuous(labels = scales::percent) +\n",
    "labs(x=NULL, fill=\"Sleep type\") + \n",
    "theme(legend.position=\"bottom\",text = element_text(size = 20),plot.title = element_text(hjust = 0.5))\n"
   ]
  },
  {
   "cell_type": "markdown",
   "id": "3b4d02c3",
   "metadata": {
    "papermill": {
     "duration": 0.04352,
     "end_time": "2021-09-25T11:21:01.026251",
     "exception": false,
     "start_time": "2021-09-25T11:21:00.982731",
     "status": "completed"
    },
    "tags": []
   },
   "source": [
    "* The above chart shows the quality of sleep of each type of users and this shows ths relation between the activity and the sleep quality,the sedentary users have the largest percent of bad sleepers and the amount of bad sleepers decreases significantly with increase in activity.\n",
    "* It is also interesting to note that fairly active and very active users have an extremely low no of over sleepers, which can show thats they can be more disciplined or busy in general than the other two categories."
   ]
  },
  {
   "cell_type": "markdown",
   "id": "e27ca74c",
   "metadata": {
    "papermill": {
     "duration": 0.04416,
     "end_time": "2021-09-25T11:21:01.113959",
     "exception": false,
     "start_time": "2021-09-25T11:21:01.069799",
     "status": "completed"
    },
    "tags": []
   },
   "source": [
    "### **SHARE:**"
   ]
  },
  {
   "cell_type": "markdown",
   "id": "ef819aec",
   "metadata": {
    "papermill": {
     "duration": 0.043227,
     "end_time": "2021-09-25T11:21:01.200800",
     "exception": false,
     "start_time": "2021-09-25T11:21:01.157573",
     "status": "completed"
    },
    "tags": []
   },
   "source": [
    "**Key objectives:**\n",
    "\n",
    "**Share my conclusions:**\n",
    "\n",
    "1. There is a clear relation between the higher intensity of the activity and the calories burned and thus encouraging the users to perform more intensity training will help the users loose weight much faster and to effectively use the time when working out.\n",
    "2. There is also a clear relation between the activity level and the sleep quality of the users, which will improve the users stress levels and general quality of life.\n",
    "\n",
    "* These conclusions can be used to effectively market how the device can help the users and even proveide high intensity training regiments/guides online for the users to maximize the effectiveness of their training.\n",
    "* The improvement of the sleep quality of the users can be marketed in a way to indicate the potential benefits of this and also tie it along with how the sleep quality and the activity levels go hand in hand to further encourage the user to increase their activities to see the improvement in the metrics and in their daily life."
   ]
  }
 ],
 "metadata": {
  "kernelspec": {
   "display_name": "R",
   "language": "R",
   "name": "ir"
  },
  "language_info": {
   "codemirror_mode": "r",
   "file_extension": ".r",
   "mimetype": "text/x-r-source",
   "name": "R",
   "pygments_lexer": "r",
   "version": "4.0.5"
  },
  "papermill": {
   "default_parameters": {},
   "duration": 57.878933,
   "end_time": "2021-09-25T11:21:01.354297",
   "environment_variables": {},
   "exception": null,
   "input_path": "__notebook__.ipynb",
   "output_path": "__notebook__.ipynb",
   "parameters": {},
   "start_time": "2021-09-25T11:20:03.475364",
   "version": "2.3.3"
  }
 },
 "nbformat": 4,
 "nbformat_minor": 5
}
